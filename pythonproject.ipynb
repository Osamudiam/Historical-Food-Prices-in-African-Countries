{
 "cells": [
  {
   "cell_type": "code",
   "execution_count": 1,
   "id": "5149e372-c9ce-45b9-ad0d-43d0a6ba960e",
   "metadata": {
    "tags": []
   },
   "outputs": [],
   "source": [
    "# environment set up\n",
    "import numpy as np, pandas as pd\n",
    "import matplotlib.pyplot as plt\n",
    "import seaborn as sns, statistics as stats\n",
    "import scipy as sp"
   ]
  },
  {
   "cell_type": "code",
   "execution_count": 2,
   "id": "be985df3-88f5-4653-b4d0-16b22a94d0be",
   "metadata": {
    "tags": []
   },
   "outputs": [
    {
     "data": {
      "text/html": [
       "<div>\n",
       "<style scoped>\n",
       "    .dataframe tbody tr th:only-of-type {\n",
       "        vertical-align: middle;\n",
       "    }\n",
       "\n",
       "    .dataframe tbody tr th {\n",
       "        vertical-align: top;\n",
       "    }\n",
       "\n",
       "    .dataframe thead th {\n",
       "        text-align: right;\n",
       "    }\n",
       "</style>\n",
       "<table border=\"1\" class=\"dataframe\">\n",
       "  <thead>\n",
       "    <tr style=\"text-align: right;\">\n",
       "      <th></th>\n",
       "      <th>Unnamed: 0</th>\n",
       "      <th>country_id</th>\n",
       "      <th>country</th>\n",
       "      <th>state_id</th>\n",
       "      <th>state</th>\n",
       "      <th>market_id</th>\n",
       "      <th>market</th>\n",
       "      <th>produce_id</th>\n",
       "      <th>produce</th>\n",
       "      <th>currency_id</th>\n",
       "      <th>currency</th>\n",
       "      <th>pt_id</th>\n",
       "      <th>market_type</th>\n",
       "      <th>um_unit_id</th>\n",
       "      <th>quantity</th>\n",
       "      <th>month</th>\n",
       "      <th>year</th>\n",
       "      <th>price</th>\n",
       "      <th>mp_commoditysource</th>\n",
       "    </tr>\n",
       "  </thead>\n",
       "  <tbody>\n",
       "    <tr>\n",
       "      <th>0</th>\n",
       "      <td>15427</td>\n",
       "      <td>4.0</td>\n",
       "      <td>Algeria</td>\n",
       "      <td>344</td>\n",
       "      <td>Alger</td>\n",
       "      <td>1794</td>\n",
       "      <td>Algiers</td>\n",
       "      <td>52</td>\n",
       "      <td>Rice - Retail</td>\n",
       "      <td>0.0</td>\n",
       "      <td>DZD</td>\n",
       "      <td>15</td>\n",
       "      <td>Retail</td>\n",
       "      <td>5</td>\n",
       "      <td>KG</td>\n",
       "      <td>4</td>\n",
       "      <td>2015</td>\n",
       "      <td>90.0</td>\n",
       "      <td>NaN</td>\n",
       "    </tr>\n",
       "    <tr>\n",
       "      <th>1</th>\n",
       "      <td>15428</td>\n",
       "      <td>4.0</td>\n",
       "      <td>Algeria</td>\n",
       "      <td>344</td>\n",
       "      <td>Alger</td>\n",
       "      <td>1794</td>\n",
       "      <td>Algiers</td>\n",
       "      <td>52</td>\n",
       "      <td>Rice - Retail</td>\n",
       "      <td>0.0</td>\n",
       "      <td>DZD</td>\n",
       "      <td>15</td>\n",
       "      <td>Retail</td>\n",
       "      <td>5</td>\n",
       "      <td>KG</td>\n",
       "      <td>5</td>\n",
       "      <td>2015</td>\n",
       "      <td>96.0</td>\n",
       "      <td>NaN</td>\n",
       "    </tr>\n",
       "    <tr>\n",
       "      <th>2</th>\n",
       "      <td>15429</td>\n",
       "      <td>4.0</td>\n",
       "      <td>Algeria</td>\n",
       "      <td>344</td>\n",
       "      <td>Alger</td>\n",
       "      <td>1794</td>\n",
       "      <td>Algiers</td>\n",
       "      <td>52</td>\n",
       "      <td>Rice - Retail</td>\n",
       "      <td>0.0</td>\n",
       "      <td>DZD</td>\n",
       "      <td>15</td>\n",
       "      <td>Retail</td>\n",
       "      <td>5</td>\n",
       "      <td>KG</td>\n",
       "      <td>6</td>\n",
       "      <td>2015</td>\n",
       "      <td>96.0</td>\n",
       "      <td>NaN</td>\n",
       "    </tr>\n",
       "    <tr>\n",
       "      <th>3</th>\n",
       "      <td>15430</td>\n",
       "      <td>4.0</td>\n",
       "      <td>Algeria</td>\n",
       "      <td>344</td>\n",
       "      <td>Alger</td>\n",
       "      <td>1794</td>\n",
       "      <td>Algiers</td>\n",
       "      <td>52</td>\n",
       "      <td>Rice - Retail</td>\n",
       "      <td>0.0</td>\n",
       "      <td>DZD</td>\n",
       "      <td>15</td>\n",
       "      <td>Retail</td>\n",
       "      <td>5</td>\n",
       "      <td>KG</td>\n",
       "      <td>7</td>\n",
       "      <td>2015</td>\n",
       "      <td>83.0</td>\n",
       "      <td>NaN</td>\n",
       "    </tr>\n",
       "    <tr>\n",
       "      <th>4</th>\n",
       "      <td>15431</td>\n",
       "      <td>4.0</td>\n",
       "      <td>Algeria</td>\n",
       "      <td>344</td>\n",
       "      <td>Alger</td>\n",
       "      <td>1794</td>\n",
       "      <td>Algiers</td>\n",
       "      <td>52</td>\n",
       "      <td>Rice - Retail</td>\n",
       "      <td>0.0</td>\n",
       "      <td>DZD</td>\n",
       "      <td>15</td>\n",
       "      <td>Retail</td>\n",
       "      <td>5</td>\n",
       "      <td>KG</td>\n",
       "      <td>8</td>\n",
       "      <td>2015</td>\n",
       "      <td>80.0</td>\n",
       "      <td>NaN</td>\n",
       "    </tr>\n",
       "    <tr>\n",
       "      <th>5</th>\n",
       "      <td>15432</td>\n",
       "      <td>4.0</td>\n",
       "      <td>Algeria</td>\n",
       "      <td>344</td>\n",
       "      <td>Alger</td>\n",
       "      <td>1794</td>\n",
       "      <td>Algiers</td>\n",
       "      <td>52</td>\n",
       "      <td>Rice - Retail</td>\n",
       "      <td>0.0</td>\n",
       "      <td>DZD</td>\n",
       "      <td>15</td>\n",
       "      <td>Retail</td>\n",
       "      <td>5</td>\n",
       "      <td>KG</td>\n",
       "      <td>9</td>\n",
       "      <td>2015</td>\n",
       "      <td>80.0</td>\n",
       "      <td>NaN</td>\n",
       "    </tr>\n",
       "    <tr>\n",
       "      <th>6</th>\n",
       "      <td>15433</td>\n",
       "      <td>4.0</td>\n",
       "      <td>Algeria</td>\n",
       "      <td>344</td>\n",
       "      <td>Alger</td>\n",
       "      <td>1794</td>\n",
       "      <td>Algiers</td>\n",
       "      <td>52</td>\n",
       "      <td>Rice - Retail</td>\n",
       "      <td>0.0</td>\n",
       "      <td>DZD</td>\n",
       "      <td>15</td>\n",
       "      <td>Retail</td>\n",
       "      <td>5</td>\n",
       "      <td>KG</td>\n",
       "      <td>10</td>\n",
       "      <td>2015</td>\n",
       "      <td>80.0</td>\n",
       "      <td>NaN</td>\n",
       "    </tr>\n",
       "  </tbody>\n",
       "</table>\n",
       "</div>"
      ],
      "text/plain": [
       "   Unnamed: 0  country_id  country  state_id  state  market_id   market  \\\n",
       "0       15427         4.0  Algeria       344  Alger       1794  Algiers   \n",
       "1       15428         4.0  Algeria       344  Alger       1794  Algiers   \n",
       "2       15429         4.0  Algeria       344  Alger       1794  Algiers   \n",
       "3       15430         4.0  Algeria       344  Alger       1794  Algiers   \n",
       "4       15431         4.0  Algeria       344  Alger       1794  Algiers   \n",
       "5       15432         4.0  Algeria       344  Alger       1794  Algiers   \n",
       "6       15433         4.0  Algeria       344  Alger       1794  Algiers   \n",
       "\n",
       "   produce_id        produce  currency_id currency  pt_id market_type  \\\n",
       "0          52  Rice - Retail          0.0      DZD     15      Retail   \n",
       "1          52  Rice - Retail          0.0      DZD     15      Retail   \n",
       "2          52  Rice - Retail          0.0      DZD     15      Retail   \n",
       "3          52  Rice - Retail          0.0      DZD     15      Retail   \n",
       "4          52  Rice - Retail          0.0      DZD     15      Retail   \n",
       "5          52  Rice - Retail          0.0      DZD     15      Retail   \n",
       "6          52  Rice - Retail          0.0      DZD     15      Retail   \n",
       "\n",
       "   um_unit_id quantity  month  year  price  mp_commoditysource  \n",
       "0           5       KG      4  2015   90.0                 NaN  \n",
       "1           5       KG      5  2015   96.0                 NaN  \n",
       "2           5       KG      6  2015   96.0                 NaN  \n",
       "3           5       KG      7  2015   83.0                 NaN  \n",
       "4           5       KG      8  2015   80.0                 NaN  \n",
       "5           5       KG      9  2015   80.0                 NaN  \n",
       "6           5       KG     10  2015   80.0                 NaN  "
      ]
     },
     "execution_count": 2,
     "metadata": {},
     "output_type": "execute_result"
    }
   ],
   "source": [
    "# Loading dataset\n",
    "file = \"datasets/africa_food_prices.csv\"\n",
    "afp = pd.read_csv(file)\n",
    "afp.head(7)"
   ]
  },
  {
   "cell_type": "code",
   "execution_count": 3,
   "id": "7034ebda-2375-47a6-8b3f-a90c004c55f9",
   "metadata": {
    "tags": []
   },
   "outputs": [
    {
     "name": "stdout",
     "output_type": "stream",
     "text": [
      "<class 'pandas.core.frame.DataFrame'>\n",
      "RangeIndex: 956779 entries, 0 to 956778\n",
      "Data columns (total 19 columns):\n",
      " #   Column              Non-Null Count   Dtype  \n",
      "---  ------              --------------   -----  \n",
      " 0   Unnamed: 0          956779 non-null  int64  \n",
      " 1   country_id          956779 non-null  float64\n",
      " 2   country             956779 non-null  object \n",
      " 3   state_id            956779 non-null  int64  \n",
      " 4   state               830101 non-null  object \n",
      " 5   market_id           956779 non-null  int64  \n",
      " 6   market              956779 non-null  object \n",
      " 7   produce_id          956779 non-null  int64  \n",
      " 8   produce             956779 non-null  object \n",
      " 9   currency_id         956779 non-null  float64\n",
      " 10  currency            956779 non-null  object \n",
      " 11  pt_id               956779 non-null  int64  \n",
      " 12  market_type         956779 non-null  object \n",
      " 13  um_unit_id          956779 non-null  int64  \n",
      " 14  quantity            956779 non-null  object \n",
      " 15  month               956779 non-null  int64  \n",
      " 16  year                956779 non-null  int64  \n",
      " 17  price               956779 non-null  float64\n",
      " 18  mp_commoditysource  0 non-null       float64\n",
      "dtypes: float64(4), int64(8), object(7)\n",
      "memory usage: 138.7+ MB\n"
     ]
    }
   ],
   "source": [
    "afp.info()"
   ]
  },
  {
   "cell_type": "code",
   "execution_count": 4,
   "id": "af97ac7e-557f-489a-ac61-8523c4d42f20",
   "metadata": {
    "tags": []
   },
   "outputs": [
    {
     "data": {
      "text/plain": [
       "(956779, 19)"
      ]
     },
     "execution_count": 4,
     "metadata": {},
     "output_type": "execute_result"
    }
   ],
   "source": [
    "# Checking the rows and columns of the dataset\n",
    "afp.shape"
   ]
  },
  {
   "cell_type": "code",
   "execution_count": 5,
   "id": "400ff111-c3ee-41b5-a5ef-4d85a27d3ad3",
   "metadata": {
    "tags": []
   },
   "outputs": [
    {
     "data": {
      "text/plain": [
       "Index(['Unnamed: 0', 'country_id', 'country', 'state_id', 'state', 'market_id',\n",
       "       'market', 'produce_id', 'produce', 'currency_id', 'currency', 'pt_id',\n",
       "       'market_type', 'um_unit_id', 'quantity', 'month', 'year', 'price',\n",
       "       'mp_commoditysource'],\n",
       "      dtype='object')"
      ]
     },
     "execution_count": 5,
     "metadata": {},
     "output_type": "execute_result"
    }
   ],
   "source": [
    "# Checking the columns\n",
    "afp.columns"
   ]
  },
  {
   "cell_type": "code",
   "execution_count": 6,
   "id": "fa5b4949-bb43-4b39-945e-9984b376389a",
   "metadata": {
    "tags": []
   },
   "outputs": [
    {
     "data": {
      "text/plain": [
       "Unnamed: 0                 0\n",
       "country_id                 0\n",
       "country                    0\n",
       "state_id                   0\n",
       "state                 126678\n",
       "market_id                  0\n",
       "market                     0\n",
       "produce_id                 0\n",
       "produce                    0\n",
       "currency_id                0\n",
       "currency                   0\n",
       "pt_id                      0\n",
       "market_type                0\n",
       "um_unit_id                 0\n",
       "quantity                   0\n",
       "month                      0\n",
       "year                       0\n",
       "price                      0\n",
       "mp_commoditysource    956779\n",
       "dtype: int64"
      ]
     },
     "execution_count": 6,
     "metadata": {},
     "output_type": "execute_result"
    }
   ],
   "source": [
    "# Checking for null values\n",
    "afp.isnull().sum()"
   ]
  },
  {
   "cell_type": "code",
   "execution_count": 7,
   "id": "7b7259b8-8e49-410a-ac15-ed12cb6f3d68",
   "metadata": {
    "tags": []
   },
   "outputs": [
    {
     "data": {
      "text/html": [
       "<div>\n",
       "<style scoped>\n",
       "    .dataframe tbody tr th:only-of-type {\n",
       "        vertical-align: middle;\n",
       "    }\n",
       "\n",
       "    .dataframe tbody tr th {\n",
       "        vertical-align: top;\n",
       "    }\n",
       "\n",
       "    .dataframe thead th {\n",
       "        text-align: right;\n",
       "    }\n",
       "</style>\n",
       "<table border=\"1\" class=\"dataframe\">\n",
       "  <thead>\n",
       "    <tr style=\"text-align: right;\">\n",
       "      <th></th>\n",
       "      <th>Unnamed: 0</th>\n",
       "      <th>country_id</th>\n",
       "      <th>state_id</th>\n",
       "      <th>market_id</th>\n",
       "      <th>produce_id</th>\n",
       "      <th>currency_id</th>\n",
       "      <th>pt_id</th>\n",
       "      <th>um_unit_id</th>\n",
       "      <th>month</th>\n",
       "      <th>year</th>\n",
       "      <th>price</th>\n",
       "      <th>mp_commoditysource</th>\n",
       "    </tr>\n",
       "  </thead>\n",
       "  <tbody>\n",
       "    <tr>\n",
       "      <th>count</th>\n",
       "      <td>9.567790e+05</td>\n",
       "      <td>956779.000000</td>\n",
       "      <td>956779.000000</td>\n",
       "      <td>956779.000000</td>\n",
       "      <td>956779.000000</td>\n",
       "      <td>956779.0</td>\n",
       "      <td>956779.000000</td>\n",
       "      <td>956779.000000</td>\n",
       "      <td>956779.000000</td>\n",
       "      <td>956779.000000</td>\n",
       "      <td>9.567790e+05</td>\n",
       "      <td>0.0</td>\n",
       "    </tr>\n",
       "    <tr>\n",
       "      <th>mean</th>\n",
       "      <td>1.076345e+06</td>\n",
       "      <td>1961.192782</td>\n",
       "      <td>22287.911831</td>\n",
       "      <td>1392.594222</td>\n",
       "      <td>186.141214</td>\n",
       "      <td>0.0</td>\n",
       "      <td>14.926716</td>\n",
       "      <td>14.017183</td>\n",
       "      <td>6.381471</td>\n",
       "      <td>2015.704015</td>\n",
       "      <td>4.128833e+03</td>\n",
       "      <td>NaN</td>\n",
       "    </tr>\n",
       "    <tr>\n",
       "      <th>std</th>\n",
       "      <td>5.159597e+05</td>\n",
       "      <td>10404.034922</td>\n",
       "      <td>98565.608270</td>\n",
       "      <td>1027.751212</td>\n",
       "      <td>165.401303</td>\n",
       "      <td>0.0</td>\n",
       "      <td>0.263570</td>\n",
       "      <td>24.437728</td>\n",
       "      <td>3.418025</td>\n",
       "      <td>4.603829</td>\n",
       "      <td>1.381840e+05</td>\n",
       "      <td>NaN</td>\n",
       "    </tr>\n",
       "    <tr>\n",
       "      <th>min</th>\n",
       "      <td>1.542700e+04</td>\n",
       "      <td>4.000000</td>\n",
       "      <td>0.000000</td>\n",
       "      <td>101.000000</td>\n",
       "      <td>50.000000</td>\n",
       "      <td>0.0</td>\n",
       "      <td>14.000000</td>\n",
       "      <td>5.000000</td>\n",
       "      <td>1.000000</td>\n",
       "      <td>1990.000000</td>\n",
       "      <td>0.000000e+00</td>\n",
       "      <td>NaN</td>\n",
       "    </tr>\n",
       "    <tr>\n",
       "      <th>25%</th>\n",
       "      <td>5.939185e+05</td>\n",
       "      <td>90.000000</td>\n",
       "      <td>1836.000000</td>\n",
       "      <td>528.000000</td>\n",
       "      <td>67.000000</td>\n",
       "      <td>0.0</td>\n",
       "      <td>15.000000</td>\n",
       "      <td>5.000000</td>\n",
       "      <td>3.000000</td>\n",
       "      <td>2013.000000</td>\n",
       "      <td>6.500000e+01</td>\n",
       "      <td>NaN</td>\n",
       "    </tr>\n",
       "    <tr>\n",
       "      <th>50%</th>\n",
       "      <td>1.113054e+06</td>\n",
       "      <td>155.000000</td>\n",
       "      <td>2209.000000</td>\n",
       "      <td>1078.000000</td>\n",
       "      <td>105.000000</td>\n",
       "      <td>0.0</td>\n",
       "      <td>15.000000</td>\n",
       "      <td>5.000000</td>\n",
       "      <td>6.000000</td>\n",
       "      <td>2017.000000</td>\n",
       "      <td>2.505714e+02</td>\n",
       "      <td>NaN</td>\n",
       "    </tr>\n",
       "    <tr>\n",
       "      <th>75%</th>\n",
       "      <td>1.513290e+06</td>\n",
       "      <td>205.000000</td>\n",
       "      <td>21971.000000</td>\n",
       "      <td>2281.000000</td>\n",
       "      <td>262.000000</td>\n",
       "      <td>0.0</td>\n",
       "      <td>15.000000</td>\n",
       "      <td>9.000000</td>\n",
       "      <td>9.000000</td>\n",
       "      <td>2020.000000</td>\n",
       "      <td>7.221005e+02</td>\n",
       "      <td>NaN</td>\n",
       "    </tr>\n",
       "    <tr>\n",
       "      <th>max</th>\n",
       "      <td>2.050637e+06</td>\n",
       "      <td>70001.000000</td>\n",
       "      <td>900003.000000</td>\n",
       "      <td>6081.000000</td>\n",
       "      <td>887.000000</td>\n",
       "      <td>0.0</td>\n",
       "      <td>17.000000</td>\n",
       "      <td>175.000000</td>\n",
       "      <td>12.000000</td>\n",
       "      <td>2021.000000</td>\n",
       "      <td>1.725000e+07</td>\n",
       "      <td>NaN</td>\n",
       "    </tr>\n",
       "  </tbody>\n",
       "</table>\n",
       "</div>"
      ],
      "text/plain": [
       "         Unnamed: 0     country_id       state_id      market_id  \\\n",
       "count  9.567790e+05  956779.000000  956779.000000  956779.000000   \n",
       "mean   1.076345e+06    1961.192782   22287.911831    1392.594222   \n",
       "std    5.159597e+05   10404.034922   98565.608270    1027.751212   \n",
       "min    1.542700e+04       4.000000       0.000000     101.000000   \n",
       "25%    5.939185e+05      90.000000    1836.000000     528.000000   \n",
       "50%    1.113054e+06     155.000000    2209.000000    1078.000000   \n",
       "75%    1.513290e+06     205.000000   21971.000000    2281.000000   \n",
       "max    2.050637e+06   70001.000000  900003.000000    6081.000000   \n",
       "\n",
       "          produce_id  currency_id          pt_id     um_unit_id  \\\n",
       "count  956779.000000     956779.0  956779.000000  956779.000000   \n",
       "mean      186.141214          0.0      14.926716      14.017183   \n",
       "std       165.401303          0.0       0.263570      24.437728   \n",
       "min        50.000000          0.0      14.000000       5.000000   \n",
       "25%        67.000000          0.0      15.000000       5.000000   \n",
       "50%       105.000000          0.0      15.000000       5.000000   \n",
       "75%       262.000000          0.0      15.000000       9.000000   \n",
       "max       887.000000          0.0      17.000000     175.000000   \n",
       "\n",
       "               month           year         price  mp_commoditysource  \n",
       "count  956779.000000  956779.000000  9.567790e+05                 0.0  \n",
       "mean        6.381471    2015.704015  4.128833e+03                 NaN  \n",
       "std         3.418025       4.603829  1.381840e+05                 NaN  \n",
       "min         1.000000    1990.000000  0.000000e+00                 NaN  \n",
       "25%         3.000000    2013.000000  6.500000e+01                 NaN  \n",
       "50%         6.000000    2017.000000  2.505714e+02                 NaN  \n",
       "75%         9.000000    2020.000000  7.221005e+02                 NaN  \n",
       "max        12.000000    2021.000000  1.725000e+07                 NaN  "
      ]
     },
     "execution_count": 7,
     "metadata": {},
     "output_type": "execute_result"
    }
   ],
   "source": [
    "# quick summary for numeric columns\n",
    "#  and also for text columns\n",
    "\n",
    "afp.describe()"
   ]
  },
  {
   "cell_type": "code",
   "execution_count": 8,
   "id": "b2dabf25-f8dd-4e22-8cd6-f1e68b4b04bf",
   "metadata": {
    "tags": []
   },
   "outputs": [],
   "source": [
    "# rename a column\n",
    "afp.rename({\"Unnamed: 0\":\"id\"},\n",
    "           axis=1, inplace=True)"
   ]
  },
  {
   "cell_type": "code",
   "execution_count": 9,
   "id": "316114b5-142b-4665-9587-f75dfbb15b0b",
   "metadata": {
    "tags": []
   },
   "outputs": [
    {
     "data": {
      "text/html": [
       "<div>\n",
       "<style scoped>\n",
       "    .dataframe tbody tr th:only-of-type {\n",
       "        vertical-align: middle;\n",
       "    }\n",
       "\n",
       "    .dataframe tbody tr th {\n",
       "        vertical-align: top;\n",
       "    }\n",
       "\n",
       "    .dataframe thead th {\n",
       "        text-align: right;\n",
       "    }\n",
       "</style>\n",
       "<table border=\"1\" class=\"dataframe\">\n",
       "  <thead>\n",
       "    <tr style=\"text-align: right;\">\n",
       "      <th></th>\n",
       "      <th>id</th>\n",
       "      <th>country_id</th>\n",
       "      <th>country</th>\n",
       "      <th>state_id</th>\n",
       "      <th>state</th>\n",
       "      <th>market_id</th>\n",
       "      <th>market</th>\n",
       "      <th>produce_id</th>\n",
       "      <th>produce</th>\n",
       "      <th>currency_id</th>\n",
       "      <th>currency</th>\n",
       "      <th>pt_id</th>\n",
       "      <th>market_type</th>\n",
       "      <th>um_unit_id</th>\n",
       "      <th>quantity</th>\n",
       "      <th>month</th>\n",
       "      <th>year</th>\n",
       "      <th>price</th>\n",
       "      <th>mp_commoditysource</th>\n",
       "    </tr>\n",
       "  </thead>\n",
       "  <tbody>\n",
       "    <tr>\n",
       "      <th>0</th>\n",
       "      <td>15427</td>\n",
       "      <td>4.0</td>\n",
       "      <td>Algeria</td>\n",
       "      <td>344</td>\n",
       "      <td>Alger</td>\n",
       "      <td>1794</td>\n",
       "      <td>Algiers</td>\n",
       "      <td>52</td>\n",
       "      <td>Rice - Retail</td>\n",
       "      <td>0.0</td>\n",
       "      <td>DZD</td>\n",
       "      <td>15</td>\n",
       "      <td>Retail</td>\n",
       "      <td>5</td>\n",
       "      <td>KG</td>\n",
       "      <td>4</td>\n",
       "      <td>2015</td>\n",
       "      <td>90.0</td>\n",
       "      <td>NaN</td>\n",
       "    </tr>\n",
       "    <tr>\n",
       "      <th>1</th>\n",
       "      <td>15428</td>\n",
       "      <td>4.0</td>\n",
       "      <td>Algeria</td>\n",
       "      <td>344</td>\n",
       "      <td>Alger</td>\n",
       "      <td>1794</td>\n",
       "      <td>Algiers</td>\n",
       "      <td>52</td>\n",
       "      <td>Rice - Retail</td>\n",
       "      <td>0.0</td>\n",
       "      <td>DZD</td>\n",
       "      <td>15</td>\n",
       "      <td>Retail</td>\n",
       "      <td>5</td>\n",
       "      <td>KG</td>\n",
       "      <td>5</td>\n",
       "      <td>2015</td>\n",
       "      <td>96.0</td>\n",
       "      <td>NaN</td>\n",
       "    </tr>\n",
       "    <tr>\n",
       "      <th>2</th>\n",
       "      <td>15429</td>\n",
       "      <td>4.0</td>\n",
       "      <td>Algeria</td>\n",
       "      <td>344</td>\n",
       "      <td>Alger</td>\n",
       "      <td>1794</td>\n",
       "      <td>Algiers</td>\n",
       "      <td>52</td>\n",
       "      <td>Rice - Retail</td>\n",
       "      <td>0.0</td>\n",
       "      <td>DZD</td>\n",
       "      <td>15</td>\n",
       "      <td>Retail</td>\n",
       "      <td>5</td>\n",
       "      <td>KG</td>\n",
       "      <td>6</td>\n",
       "      <td>2015</td>\n",
       "      <td>96.0</td>\n",
       "      <td>NaN</td>\n",
       "    </tr>\n",
       "    <tr>\n",
       "      <th>3</th>\n",
       "      <td>15430</td>\n",
       "      <td>4.0</td>\n",
       "      <td>Algeria</td>\n",
       "      <td>344</td>\n",
       "      <td>Alger</td>\n",
       "      <td>1794</td>\n",
       "      <td>Algiers</td>\n",
       "      <td>52</td>\n",
       "      <td>Rice - Retail</td>\n",
       "      <td>0.0</td>\n",
       "      <td>DZD</td>\n",
       "      <td>15</td>\n",
       "      <td>Retail</td>\n",
       "      <td>5</td>\n",
       "      <td>KG</td>\n",
       "      <td>7</td>\n",
       "      <td>2015</td>\n",
       "      <td>83.0</td>\n",
       "      <td>NaN</td>\n",
       "    </tr>\n",
       "    <tr>\n",
       "      <th>4</th>\n",
       "      <td>15431</td>\n",
       "      <td>4.0</td>\n",
       "      <td>Algeria</td>\n",
       "      <td>344</td>\n",
       "      <td>Alger</td>\n",
       "      <td>1794</td>\n",
       "      <td>Algiers</td>\n",
       "      <td>52</td>\n",
       "      <td>Rice - Retail</td>\n",
       "      <td>0.0</td>\n",
       "      <td>DZD</td>\n",
       "      <td>15</td>\n",
       "      <td>Retail</td>\n",
       "      <td>5</td>\n",
       "      <td>KG</td>\n",
       "      <td>8</td>\n",
       "      <td>2015</td>\n",
       "      <td>80.0</td>\n",
       "      <td>NaN</td>\n",
       "    </tr>\n",
       "  </tbody>\n",
       "</table>\n",
       "</div>"
      ],
      "text/plain": [
       "      id  country_id  country  state_id  state  market_id   market  \\\n",
       "0  15427         4.0  Algeria       344  Alger       1794  Algiers   \n",
       "1  15428         4.0  Algeria       344  Alger       1794  Algiers   \n",
       "2  15429         4.0  Algeria       344  Alger       1794  Algiers   \n",
       "3  15430         4.0  Algeria       344  Alger       1794  Algiers   \n",
       "4  15431         4.0  Algeria       344  Alger       1794  Algiers   \n",
       "\n",
       "   produce_id        produce  currency_id currency  pt_id market_type  \\\n",
       "0          52  Rice - Retail          0.0      DZD     15      Retail   \n",
       "1          52  Rice - Retail          0.0      DZD     15      Retail   \n",
       "2          52  Rice - Retail          0.0      DZD     15      Retail   \n",
       "3          52  Rice - Retail          0.0      DZD     15      Retail   \n",
       "4          52  Rice - Retail          0.0      DZD     15      Retail   \n",
       "\n",
       "   um_unit_id quantity  month  year  price  mp_commoditysource  \n",
       "0           5       KG      4  2015   90.0                 NaN  \n",
       "1           5       KG      5  2015   96.0                 NaN  \n",
       "2           5       KG      6  2015   96.0                 NaN  \n",
       "3           5       KG      7  2015   83.0                 NaN  \n",
       "4           5       KG      8  2015   80.0                 NaN  "
      ]
     },
     "execution_count": 9,
     "metadata": {},
     "output_type": "execute_result"
    }
   ],
   "source": [
    "afp.head(5)"
   ]
  },
  {
   "cell_type": "code",
   "execution_count": 10,
   "id": "86bdf113-ddc2-4d55-8499-dcd3def3e726",
   "metadata": {
    "tags": []
   },
   "outputs": [],
   "source": [
    "# delete a column\n",
    "del afp['mp_commoditysource']"
   ]
  },
  {
   "cell_type": "code",
   "execution_count": 11,
   "id": "c1c428a2-e595-422b-b2e0-22b93b45eeb1",
   "metadata": {
    "tags": []
   },
   "outputs": [
    {
     "data": {
      "text/plain": [
       "(956779, 18)"
      ]
     },
     "execution_count": 11,
     "metadata": {},
     "output_type": "execute_result"
    }
   ],
   "source": [
    "afp.shape"
   ]
  },
  {
   "cell_type": "code",
   "execution_count": 12,
   "id": "5efb9e2f-d443-4b3d-9ccb-70b3d9ab918f",
   "metadata": {
    "tags": []
   },
   "outputs": [
    {
     "data": {
      "text/plain": [
       "Index(['id', 'country_id', 'country', 'state_id', 'state', 'market_id',\n",
       "       'market', 'produce_id', 'produce', 'currency_id', 'currency', 'pt_id',\n",
       "       'market_type', 'um_unit_id', 'quantity', 'month', 'year', 'price'],\n",
       "      dtype='object')"
      ]
     },
     "execution_count": 12,
     "metadata": {},
     "output_type": "execute_result"
    }
   ],
   "source": [
    "afp.columns"
   ]
  },
  {
   "cell_type": "code",
   "execution_count": 13,
   "id": "bef77548-86b0-4579-a07e-03ff40744e00",
   "metadata": {
    "tags": []
   },
   "outputs": [],
   "source": [
    "# rename a column\n",
    "afp.rename({\"um_unit_id\":\"unit_id\"},\n",
    "           axis=1, inplace=True)"
   ]
  },
  {
   "cell_type": "code",
   "execution_count": 14,
   "id": "08de3a09-dbda-4715-9ac2-d924b1b259fb",
   "metadata": {
    "tags": []
   },
   "outputs": [
    {
     "data": {
      "text/plain": [
       "Index(['id', 'country_id', 'country', 'state_id', 'state', 'market_id',\n",
       "       'market', 'produce_id', 'produce', 'currency_id', 'currency', 'pt_id',\n",
       "       'market_type', 'unit_id', 'quantity', 'month', 'year', 'price'],\n",
       "      dtype='object')"
      ]
     },
     "execution_count": 14,
     "metadata": {},
     "output_type": "execute_result"
    }
   ],
   "source": [
    "afp.columns"
   ]
  },
  {
   "cell_type": "code",
   "execution_count": 15,
   "id": "39b6f7d3-ee02-4304-b8f8-01244fccfbba",
   "metadata": {
    "tags": []
   },
   "outputs": [
    {
     "data": {
      "text/plain": [
       "id                  0\n",
       "country_id          0\n",
       "country             0\n",
       "state_id            0\n",
       "state          126678\n",
       "market_id           0\n",
       "market              0\n",
       "produce_id          0\n",
       "produce             0\n",
       "currency_id         0\n",
       "currency            0\n",
       "pt_id               0\n",
       "market_type         0\n",
       "unit_id             0\n",
       "quantity            0\n",
       "month               0\n",
       "year                0\n",
       "price               0\n",
       "dtype: int64"
      ]
     },
     "execution_count": 15,
     "metadata": {},
     "output_type": "execute_result"
    }
   ],
   "source": [
    "afp.isnull().sum()"
   ]
  },
  {
   "cell_type": "code",
   "execution_count": 16,
   "id": "95032847-bbc0-4077-88db-75b4a1804077",
   "metadata": {
    "tags": []
   },
   "outputs": [],
   "source": [
    "# clean the NAN values or drop th rows\n",
    "\n",
    "# to drop rows with NAN values\n",
    "afp.dropna(inplace=True)"
   ]
  },
  {
   "cell_type": "code",
   "execution_count": 17,
   "id": "861f3e4c-91a6-4280-8c37-e909db551b2b",
   "metadata": {
    "tags": []
   },
   "outputs": [
    {
     "data": {
      "text/plain": [
       "(830101, 18)"
      ]
     },
     "execution_count": 17,
     "metadata": {},
     "output_type": "execute_result"
    }
   ],
   "source": [
    "afp.shape"
   ]
  },
  {
   "cell_type": "code",
   "execution_count": 18,
   "id": "7b38d2f0-32bf-4107-8996-6df4a8f69fdd",
   "metadata": {
    "tags": []
   },
   "outputs": [
    {
     "data": {
      "text/plain": [
       "id             0\n",
       "country_id     0\n",
       "country        0\n",
       "state_id       0\n",
       "state          0\n",
       "market_id      0\n",
       "market         0\n",
       "produce_id     0\n",
       "produce        0\n",
       "currency_id    0\n",
       "currency       0\n",
       "pt_id          0\n",
       "market_type    0\n",
       "unit_id        0\n",
       "quantity       0\n",
       "month          0\n",
       "year           0\n",
       "price          0\n",
       "dtype: int64"
      ]
     },
     "execution_count": 18,
     "metadata": {},
     "output_type": "execute_result"
    }
   ],
   "source": [
    "afp.isnull().sum()"
   ]
  },
  {
   "cell_type": "code",
   "execution_count": 19,
   "id": "68f02d69-35f9-430b-8d61-d8e7611c1faf",
   "metadata": {
    "tags": []
   },
   "outputs": [
    {
     "data": {
      "text/html": [
       "<div>\n",
       "<style scoped>\n",
       "    .dataframe tbody tr th:only-of-type {\n",
       "        vertical-align: middle;\n",
       "    }\n",
       "\n",
       "    .dataframe tbody tr th {\n",
       "        vertical-align: top;\n",
       "    }\n",
       "\n",
       "    .dataframe thead th {\n",
       "        text-align: right;\n",
       "    }\n",
       "</style>\n",
       "<table border=\"1\" class=\"dataframe\">\n",
       "  <thead>\n",
       "    <tr style=\"text-align: right;\">\n",
       "      <th></th>\n",
       "      <th>country</th>\n",
       "      <th>state</th>\n",
       "      <th>market</th>\n",
       "      <th>produce</th>\n",
       "      <th>currency</th>\n",
       "      <th>market_type</th>\n",
       "      <th>quantity</th>\n",
       "    </tr>\n",
       "  </thead>\n",
       "  <tbody>\n",
       "    <tr>\n",
       "      <th>count</th>\n",
       "      <td>830101</td>\n",
       "      <td>830101</td>\n",
       "      <td>830101</td>\n",
       "      <td>830101</td>\n",
       "      <td>830101</td>\n",
       "      <td>830101</td>\n",
       "      <td>830101</td>\n",
       "    </tr>\n",
       "    <tr>\n",
       "      <th>unique</th>\n",
       "      <td>36</td>\n",
       "      <td>311</td>\n",
       "      <td>1522</td>\n",
       "      <td>400</td>\n",
       "      <td>29</td>\n",
       "      <td>3</td>\n",
       "      <td>68</td>\n",
       "    </tr>\n",
       "    <tr>\n",
       "      <th>top</th>\n",
       "      <td>Rwanda</td>\n",
       "      <td>North/Amajyaruguru</td>\n",
       "      <td>Serrekunda</td>\n",
       "      <td>Millet - Retail</td>\n",
       "      <td>XOF</td>\n",
       "      <td>Retail</td>\n",
       "      <td>KG</td>\n",
       "    </tr>\n",
       "    <tr>\n",
       "      <th>freq</th>\n",
       "      <td>137746</td>\n",
       "      <td>34770</td>\n",
       "      <td>4130</td>\n",
       "      <td>43916</td>\n",
       "      <td>227321</td>\n",
       "      <td>760921</td>\n",
       "      <td>632971</td>\n",
       "    </tr>\n",
       "  </tbody>\n",
       "</table>\n",
       "</div>"
      ],
      "text/plain": [
       "       country               state      market          produce currency  \\\n",
       "count   830101              830101      830101           830101   830101   \n",
       "unique      36                 311        1522              400       29   \n",
       "top     Rwanda  North/Amajyaruguru  Serrekunda  Millet - Retail      XOF   \n",
       "freq    137746               34770        4130            43916   227321   \n",
       "\n",
       "       market_type quantity  \n",
       "count       830101   830101  \n",
       "unique           3       68  \n",
       "top         Retail       KG  \n",
       "freq        760921   632971  "
      ]
     },
     "execution_count": 19,
     "metadata": {},
     "output_type": "execute_result"
    }
   ],
   "source": [
    "# df.dtypes\n",
    "afp.describe(include='object')"
   ]
  },
  {
   "cell_type": "code",
   "execution_count": 20,
   "id": "5d199d8a-4c6f-4413-8698-7a30f146df55",
   "metadata": {
    "tags": []
   },
   "outputs": [
    {
     "data": {
      "text/plain": [
       "array(['Rice - Retail', 'Bread - Retail', 'Beans (white) - Retail',\n",
       "       'Milk - Retail', 'Potatoes - Retail', 'Eggs - Retail',\n",
       "       'Meat (chicken) - Retail', 'Sugar - Retail', 'Lentils - Retail',\n",
       "       'Pasta - Retail', 'Tomatoes - Retail', 'Oil - Retail',\n",
       "       'Meat (beef) - Retail', 'Cheese (dry) - Retail',\n",
       "       'Carrots - Retail', 'Onions - Retail', 'Bananas - Retail',\n",
       "       'Tea - Retail', 'Fuel (diesel) - Retail',\n",
       "       'Fuel (petrol-gasoline) - Retail', 'Fish (canned) - Retail',\n",
       "       'Apples - Retail', 'Oranges - Retail', 'Milk (camel) - Retail',\n",
       "       'Meat (camel) - Retail', 'Tea (sahm) - Retail',\n",
       "       'Oil (palm) - Retail', 'Cassava flour - Retail',\n",
       "       'Maize flour - Retail', 'Rice (regular, milled) - Retail',\n",
       "       'Milk (powder) - Retail', 'Oil (soybean) - Retail',\n",
       "       'Sugar (white) - Retail', 'Salt (iodised) - Retail',\n",
       "       'Rice (white, imported) - Retail', 'Maize meal (yellow) - Retail',\n",
       "       'Fish (mackerel, dry) - Retail', 'Beans (kidney, pinto) - Retail',\n",
       "       'Maize - Wholesale', 'Rice (imported) - Wholesale',\n",
       "       'Rice (imported) - Retail', 'Sorghum - Wholesale',\n",
       "       'Sorghum - Retail', 'Maize (white) - Retail',\n",
       "       'Rice (local) - Retail', 'Millet - Wholesale', 'Millet - Retail',\n",
       "       'Wheat - Wholesale', 'Wheat - Retail', 'Sweet potatoes - Retail',\n",
       "       'Yam - Retail', 'Plantains - Retail', 'Cabbage - Retail',\n",
       "       'Peas (green, dry) - Retail', 'Oil (groundnut) - Retail',\n",
       "       'Soybeans - Retail', 'Sorghum (red) - Retail',\n",
       "       'Cassava (cossette) - Retail', 'Lemons - Retail',\n",
       "       'Wheat flour (imported) - Retail', 'Cassava meal (gari) - Retail',\n",
       "       'Fish (tilapia) - Retail', 'Papaya - Retail',\n",
       "       'Okra (fresh) - Retail', 'Groundnuts (Bambara) - Retail',\n",
       "       'Peppers (red, dry) - Retail',\n",
       "       'Groundnuts (small, unshelled) - Retail',\n",
       "       'Cassava meal (tapioca) - Retail', 'Coconut (dried) - Retail',\n",
       "       'Yam (white) - Retail', 'Fish (fresh, silvi) - Retail',\n",
       "       'Oil (palm nut) - Retail', 'Cassava meal (gari, fine) - Retail',\n",
       "       'Yam (dry) - Retail', 'Yam (flour) - Retail',\n",
       "       'Beans (red) - Retail', 'Beans (black) - Retail',\n",
       "       'Rice (paddy) - Retail', 'Cassava (fresh) - Retail',\n",
       "       'Yam (yellow) - Retail', 'Leafy vegetables - Retail',\n",
       "       'Maize - Retail', 'Shrimps - Retail', 'Taro - Retail',\n",
       "       'Snail - Retail', 'Beans - Retail', 'Oil (vegetable) - Retail',\n",
       "       'Potatoes (Irish) - Retail', 'Salt - Retail',\n",
       "       'Rice (high quality, local) - Retail',\n",
       "       'Rice (low quality, local) - Retail', 'Meat (goat) - Retail',\n",
       "       'Avocados - Retail', 'Fish (lates,dry,local) - Retail',\n",
       "       'Fish (lates,dry,imported) - Retail',\n",
       "       'Rice (imported, Tanzanian) - Retail', 'Cassava - Wholesale',\n",
       "       'Groundnuts (shelled) - Wholesale',\n",
       "       'Groundnuts (shelled) - Retail', 'Beans (niebe) - Wholesale',\n",
       "       'Beans (niebe) - Retail', 'Fish (dry) - Retail',\n",
       "       'Oil (cotton) - Retail', 'Onions - Wholesale', 'Chicken - Retail',\n",
       "       'Rice (long grain, imported) - Retail',\n",
       "       'Cassava (cossette) - Wholesale', 'Fish (frozen) - Retail',\n",
       "       'Cocoyam (macabo) - Retail', 'Sesame - Wholesale',\n",
       "       'Soybeans - Wholesale', 'Sorghum (red) - Wholesale',\n",
       "       'Wheat flour - Retail', 'Cassava - Retail',\n",
       "       'Maize (yellow) - Retail', 'Wage (qualified labour) - Retail',\n",
       "       'Wage (non-qualified labour) - Retail',\n",
       "       'Cocoyam (macabo) - Wholesale', 'Rice (local) - Wholesale',\n",
       "       'Groundnuts (unshelled) - Wholesale', 'Maize (white) - Wholesale',\n",
       "       'Sorghum (white) - Wholesale', 'Sorghum (white) - Retail',\n",
       "       'Cowpeas (Red) - Wholesale', 'Peas (yellow) - Wholesale',\n",
       "       'Oil (palm) - Wholesale', 'Beans (red) - Wholesale',\n",
       "       'Rice (long grain, imported) - Wholesale',\n",
       "       'Cassava (fresh) - Wholesale', 'Rice (long grain) - Retail',\n",
       "       'Maize (local) - Retail', 'Rice (medium grain) - Retail',\n",
       "       'Maize (imported) - Retail', 'Groundnuts (unshelled) - Retail',\n",
       "       'Sesame - Retail', 'Squashes - Retail', 'Fuel (gas) - Retail',\n",
       "       'Oil (vegetable, imported) - Retail',\n",
       "       'Meat (chicken, frozen) - Retail',\n",
       "       'Fish (sardine, canned) - Retail',\n",
       "       'Rice (broken, imported) - Retail', 'Charcoal - Retail',\n",
       "       'Water (drinking) - Retail', 'Laundry soap - Retail',\n",
       "       'Laundry detergent - Retail', 'Pasta (spaghetti) - Retail',\n",
       "       'Fish - Retail', 'Groundnuts - Retail', 'Fish (smoked) - Retail',\n",
       "       'Fish (catfish) - Retail', 'Beans (green, fresh) - Retail',\n",
       "       'Meat (antelope, smoked) - Retail',\n",
       "       'Meat (gazelle, smoked) - Retail',\n",
       "       'Rice (mixed, low quality) - Retail', 'Fish (salted) - Retail',\n",
       "       'Fish (fresh) - Retail', 'Groundnuts (paste) - Retail',\n",
       "       'Cassava meal (foufou) - Retail', 'Fuel (kerosene) - Retail',\n",
       "       'Rice - Wholesale', 'Wheat flour - Wholesale',\n",
       "       'Rice (basmati, broken) - Wholesale', 'Rice (Belem) - Wholesale',\n",
       "       'Chickpeas - Retail', 'Barley - Retail',\n",
       "       'Beans (fava) - Wholesale', 'Garlic - Retail',\n",
       "       'Lentils - Wholesale', 'Chickpeas - Wholesale',\n",
       "       'Wage (casual labour) - Retail', 'Exchange rate - Retail',\n",
       "       'Teff - Wholesale', 'Exchange rate (unofficial) - Retail',\n",
       "       'Wheat (white) - Wholesale', 'Wheat (white) - Retail',\n",
       "       'Teff (white) - Wholesale', 'Barley (white) - Wholesale',\n",
       "       'Teff (red) - Wholesale', 'Lin seed - Wholesale',\n",
       "       'Sorghum (mixed) - Wholesale', 'Niger seed - Wholesale',\n",
       "       'Rape seed - Wholesale', 'Teff (Sergegna) - Wholesale',\n",
       "       'Teff (Sergegna) - Retail', 'Peas (mixed) - Wholesale',\n",
       "       'Livestock (cattle) - Retail', 'Livestock (Goat) - Retail',\n",
       "       'Livestock (Sheep) - Retail', 'Teff (white) - Retail',\n",
       "       'Teff (red) - Retail', 'Livestock (donkey) - Retail',\n",
       "       'Livestock (camel) - Retail', 'Pasta (macaroni) - Retail',\n",
       "       'Teff (mixed) - Retail', 'Butter (cow milk) - Retail',\n",
       "       'Butter (goat milk) - Retail', 'Beans (fava, dry) - Retail',\n",
       "       'Beans (fava) - Retail', 'Peas - Retail', 'Coffee - Retail',\n",
       "       'Livestock (ox) - Retail', 'Meat - Retail',\n",
       "       'Peppers (green) - Retail', 'Lettuce - Retail',\n",
       "       'Beetroots - Retail', 'Guava - Retail', 'Mangoes - Retail',\n",
       "       'Kale - Retail', 'Swiss chard - Retail',\n",
       "       'Beans (haricot, white) - Wholesale', 'Wheat (mixed) - Wholesale',\n",
       "       'Peas (split, dry) - Retail', 'Wheat (mixed) - Retail',\n",
       "       'Barley (mixed) - Wholesale', 'Beans (mung) - Retail',\n",
       "       'Millet (finger) - Retail', 'Beans (haricot) - Retail',\n",
       "       'Niger seed - Retail', 'Livestock (bull) - Retail',\n",
       "       'Honey - Retail', 'Beans (haricot, red) - Wholesale',\n",
       "       'Corn Soy Blend (CSB++, food aid) - Retail',\n",
       "       'Wheat (food aid) - Retail', 'Kocho - Retail',\n",
       "       'Maize (food aid) - Retail', 'Sorghum (food aid) - Retail',\n",
       "       'Fonio - Retail', 'Rice (paddy, long grain, local) - Retail',\n",
       "       'Rice (basmati, broken) - Retail', 'Meat (pork) - Retail',\n",
       "       'Fish (bonga) - Retail', 'Tea (green) - Retail',\n",
       "       'Meat (mutton) - Retail', 'Coffee (instant) - Retail',\n",
       "       'Rice (medium grain, imported) - Retail',\n",
       "       'Rice (small grain, imported) - Retail', 'Apples (red) - Retail',\n",
       "       'Oranges (big size) - Retail', 'Beans (dry) - Retail',\n",
       "       'Dates - Retail', 'Tomatoes (paste) - Retail',\n",
       "       'Meat (beef, canned) - Retail', 'Yogurt - Retail',\n",
       "       'Butter - Retail', 'Cucumbers - Retail', 'Pumpkin - Retail',\n",
       "       'Eggplants - Retail', 'Cassava leaves - Retail',\n",
       "       'Meat (sheep) - Retail', 'Cocoa (powder) - Retail',\n",
       "       'Peppers (red) - Retail', 'Peppers (fresh) - Retail',\n",
       "       'Watermelons - Retail', 'Cashew nut - Retail', 'Gari - Wholesale',\n",
       "       'Gari - Retail', 'Eggs - Wholesale', 'Meat (chicken) - Wholesale',\n",
       "       'Plantains (apentu) - Wholesale', 'Plantains (apentu) - Retail',\n",
       "       'Yam - Wholesale', 'Maize (yellow) - Wholesale',\n",
       "       'Rice (paddy) - Wholesale', 'Cowpeas - Retail',\n",
       "       'Tomatoes (local) - Wholesale', 'Tomatoes (local) - Retail',\n",
       "       'Eggplants - Wholesale', 'Cowpeas (white) - Wholesale',\n",
       "       'Plantains (apem) - Wholesale', 'Plantains (apem) - Retail',\n",
       "       'Tomatoes (navrongo) - Wholesale', 'Tomatoes (navrongo) - Retail',\n",
       "       'Peppers (fresh) - Wholesale', 'Peppers (dried) - Wholesale',\n",
       "       'Peppers (dried) - Retail', 'Yam (puna) - Wholesale',\n",
       "       'Yam (puna) - Retail', 'Fish (mackerel, fresh) - Wholesale',\n",
       "       'Fish (mackerel, fresh) - Retail',\n",
       "       'Meat (chicken, local) - Wholesale', 'Onions (imported) - Retail',\n",
       "       'Chili (red, dry raw) - Retail', 'Beans (niebe, white) - Retail',\n",
       "       'Onions (local) - Retail', 'Cassava meal (attieke) - Retail',\n",
       "       'Meat (beef, second quality) - Retail',\n",
       "       'Rice (high quality) - Retail', 'Fuel (Super Petrol) - Retail',\n",
       "       'Meat (chicken, frozen, imported) - Retail',\n",
       "       'Meat (beef, without bones) - Retail', 'Handwash soap - Retail',\n",
       "       'Fish (goldstripe sardinella) - Retail',\n",
       "       'Bananas (local) - Retail', 'Meat (chicken, local) - Retail',\n",
       "       'Fish (barbel, sole) - Retail', 'Fish (mullet, catfish) - Retail',\n",
       "       'Firewood - Retail', 'Candles (small)  - Retail',\n",
       "       'Candles (big)  - Retail', 'Batteries (small) - Retail',\n",
       "       'Batteries (big) - Retail',\n",
       "       'Meat (sheep, second quality) - Retail', 'Cashew fruit - Retail',\n",
       "       'Meat (pork, first quality) - Retail',\n",
       "       'Meat (pork, second quality) - Retail',\n",
       "       'Bananas (imported) - Retail', 'Beans - Wholesale',\n",
       "       'Potatoes (Irish) - Wholesale', 'Beans (dry) - Wholesale',\n",
       "       'Cooking fat - Retail', 'Milk (UHT) - Retail',\n",
       "       'Milk (cow, fresh) - Retail', 'Milk (camel, fresh) - Retail',\n",
       "       'Onions (red) - Retail', 'Milk (cow, pasteurized) - Retail',\n",
       "       'Maize meal - Retail', 'Bread (brown) - Retail',\n",
       "       'Oil (sunflower) - Retail', 'Beans (sugar-red) - Retail',\n",
       "       'Wheat meal - Retail', 'Maize meal (imported) - Retail',\n",
       "       'Wage (non-qualified labour, non-agricultural) - Retail',\n",
       "       'Wage (non-qualified labour, agricultural) - Retail',\n",
       "       'Cane juice (strong) - Retail', 'Bitterball - Retail',\n",
       "       'Cocoa - Retail', 'Cane juice (light) - Retail',\n",
       "       'Rice (paddy) - Producer', 'Cassava (dry) - Retail',\n",
       "       'Maize (crushed) - Retail', 'Pigeon peas - Retail',\n",
       "       'Potatoes (red) - Retail',\n",
       "       'Livestock (sheep, medium-sized male) - Retail',\n",
       "       'Livestock (goat, medium-sized male) - Retail',\n",
       "       'Couscous - Retail', 'Semolina - Retail',\n",
       "       'Wage (non-qualified labour, livestock) - Retail',\n",
       "       'Onions (shallot) - Retail', 'Potato Leaves - Retail',\n",
       "       'Sorghum (taghalit) - Retail',\n",
       "       'Livestock (sheep, medium-sized castrated male) - Retail',\n",
       "       'Feed (flour) - Retail', 'Feed (wheat bran) - Retail',\n",
       "       'Feed (rakhel) - Retail', 'Straw - Retail',\n",
       "       \"Sorghum (r'haya) - Retail\", 'Bread (vetkoek) - Retail',\n",
       "       'Bread (brotchen) - Retail', 'Bread (traditional) - Retail',\n",
       "       'Sorghum (local) - Wholesale', 'Cowpeas (white) - Retail',\n",
       "       'Cowpeas (brown) - Wholesale', 'Cowpeas (brown) - Retail',\n",
       "       'Sorghum (brown) - Wholesale', 'Sorghum (brown) - Retail',\n",
       "       'Cassava meal (gari, yellow) - Wholesale',\n",
       "       'Cassava meal (gari, yellow) - Retail', 'Gari (white) - Wholesale',\n",
       "       'Gari (white) - Retail', 'Rice (milled, local) - Wholesale',\n",
       "       'Spinach - Retail', 'Yam (Abuja) - Wholesale',\n",
       "       'Yam (Abuja) - Retail', 'Maize flour (imported) - Retail',\n",
       "       'Chili (red) - Retail', 'Onions (white) - Retail',\n",
       "       'Cauliflower - Retail', 'Cucumbers (greenhouse) - Retail',\n",
       "       'Rice (imported, Indian) - Retail', 'Sorghum flour - Retail',\n",
       "       'Beans (fresh) - Retail', 'Passion fruit - Retail',\n",
       "       'Zucchini - Retail', 'Livestock (hen) - Retail',\n",
       "       'Peas (fresh) - Retail', 'Peas (dry) - Retail',\n",
       "       'Rice (long grain, high quality, local) - Retail',\n",
       "       'Livestock (pig) - Retail',\n",
       "       'Rice (ordinary, first quality) - Retail',\n",
       "       'Rice (ordinary, second quality) - Retail',\n",
       "       'Sorghum (imported) - Retail', 'Fish (herring) - Retail',\n",
       "       'Cassava flour - Wholesale', 'Plantains - Wholesale',\n",
       "       'Cassava meal - Retail', 'Maize meal (white, roller) - Retail',\n",
       "       'Maize meal (white, breakfast) - Retail',\n",
       "       'Maize flour (white) - Retail', 'Beans (sugar) - Retail',\n",
       "       'Toothpaste - Retail', 'Fish (kapenta) - Retail',\n",
       "       'Maize meal (white, first grade) - Retail',\n",
       "       'Oil (vegetable, fortified) - Retail',\n",
       "       'Maize meal (white, fortified) - Retail',\n",
       "       'Wheat flour (fortified) - Retail',\n",
       "       'Sugar (white, fortified) - Retail',\n",
       "       'Maize (yellow, biofortified) - Retail',\n",
       "       'Beans (sugar, biofortified) - Retail',\n",
       "       'Sorghum (biofortified) - Retail',\n",
       "       'Millet (biofortified) - Retail'], dtype=object)"
      ]
     },
     "execution_count": 20,
     "metadata": {},
     "output_type": "execute_result"
    }
   ],
   "source": [
    "afp.produce.unique()"
   ]
  },
  {
   "cell_type": "code",
   "execution_count": 21,
   "id": "da7c476f-aec1-4143-9c4b-29c30ba01c83",
   "metadata": {
    "tags": []
   },
   "outputs": [
    {
     "data": {
      "text/plain": [
       "array(['Alger', 'Tindouf', 'Luanda', 'Lunda Norte', 'Alibori', 'Atakora',\n",
       "       'Atlantique', 'Borgou', 'Collines', 'Couffo', 'Donga', 'Littoral',\n",
       "       'Mono', 'Oueme', 'Plateau', 'Zou', 'Bubanza', 'Bujumbura Mairie',\n",
       "       'Bujumbura Rural', 'Bururi', 'Cankuzo', 'Cibitoke', 'Gitega',\n",
       "       'Karuzi', 'Kayanza', 'Kirundo', 'Makamba', 'Muramvya', 'Muyinga',\n",
       "       'Mwaro', 'Ngozi', 'Rutana', 'Ruyigi', 'Adamaoua', 'Centre', 'Est',\n",
       "       'Extreme - Nord', 'Nord', 'Nord - Ouest', 'Ouest', 'Sud - Ouest',\n",
       "       'Santiago', 'Santo Antao', 'Sao Vicente', 'Bamingui-Bangoran',\n",
       "       'Haut-Mbomou', 'Haute-Kotto', 'Kémo', 'Lobaye', 'Mambéré-Kadéï',\n",
       "       'Mbomou', 'Nana-Gribizi', 'Nana-Mambéré', \"Ombella M'Poko\",\n",
       "       'Ouaka', 'Ouham', 'Ouham Pendé', 'Sangha-Mbaéré', 'Vakaga',\n",
       "       'Bangui', 'Bouenza', 'Cuvette', 'Lekoumou', 'Likouala', 'Pool',\n",
       "       'Point-Noire', 'Brazzaville', 'Ali Sabieh', 'Dikhil', 'Djibouti',\n",
       "       'Obock', 'Tadjourah', 'Maekel', 'Semenawi Keih Bahri',\n",
       "       'Addis Ababa', 'Afar', 'Amhara', 'Beneshangul Gumu', 'Dire Dawa',\n",
       "       'Gambela', 'Hareri', 'SNNPR', 'Tigray', 'Oromia', 'Somali',\n",
       "       'Estuaire', 'Central River', 'Lower River', 'North Bank',\n",
       "       'Upper River', 'West Coast', 'Kanifing Municipal Council',\n",
       "       'Ashanti', 'Brong Ahafo', 'Central', 'Eastern', 'Greater Accra',\n",
       "       'Northern', 'Upper East', 'Upper West', 'Volta', 'Western', 'Boke',\n",
       "       'Conakry', 'Faranah', 'Kankan', 'Kindia', 'Labe', 'Mamou',\n",
       "       'Nzerekore', 'Bafata', 'Biombo', 'Bolama', 'Cacheu', 'Gabu', 'Oio',\n",
       "       'Quinara', 'Sector Autonomo De Bissau', 'Tombali', 'Coast',\n",
       "       'Nairobi', 'North Eastern', 'Nyanza', 'Rift Valley', 'Berea',\n",
       "       'Butha Buthe', 'Leribe', 'Mafeteng', 'Maseru', \"Mohale's Hoek\",\n",
       "       'Mokhotlong', \"Qacha's Nek\", 'Quthing', 'Thaba Tseka', 'Bomi',\n",
       "       'Bong', 'Gbarpolu', 'Grand Bassa', 'Grand Cape Mount',\n",
       "       'Grand Gedeh', 'Grand Kru', 'Lofa', 'Margibi', 'Maryland',\n",
       "       'Montserrado', 'Nimba', 'Rivercess', 'River Gee', 'Sinoe',\n",
       "       'Atsinanana', 'Toliara', 'Vatovavy Fitovinany', 'Vakinankaratra',\n",
       "       'Sofia', 'Menabe', 'Melaky', 'Ihorombe', 'Haute Matsiatra',\n",
       "       'Diana', 'Boeny', 'Betsiboka', 'Atsimo Atsinanana',\n",
       "       'Atsimo Andrefana', 'Anosy', 'Androy', 'Analanjirofo',\n",
       "       'Analamanga', 'Amoron I Mania', 'Alaotra Mangoro',\n",
       "       'Central Region', 'Northern Region', 'Southern Region', 'Bamako',\n",
       "       'Koulikoro', 'Gao', 'Kayes', 'Kidal', 'Mopti', 'Segou', 'Sikasso',\n",
       "       'Tombouctou', 'Adrar', 'Assaba', 'Brakna', 'Dakhlet-Nouadhibou',\n",
       "       'Gorgol', 'Guidimakha', 'Hodh Ech Chargi', 'Hodh El Gharbi',\n",
       "       'Nouakchott', 'Tagant', 'Tiris-Zemmour', 'Trarza', 'Caprivi',\n",
       "       'Erongo', 'Hardap', 'Karas', 'Khomas', 'Omaheke', 'Oshana',\n",
       "       'Otjozondjupa', 'Agadez', 'Diffa', 'Dosso', 'Maradi', 'Niamey',\n",
       "       'Tahoua', 'Tillaberi', 'Zinder', 'Adamawa', 'Borno', 'Jigawa',\n",
       "       'Kaduna', 'Kano', 'Katsina', 'Kebbi', 'Lagos', 'Oyo', 'Yobe',\n",
       "       'Abia', 'Gombe', 'Sokoto', 'Zamfara',\n",
       "       'Kigali City/Umujyi wa Kigali', 'East/Iburasirazuba',\n",
       "       'North/Amajyaruguru', 'South/Amajyepfo', 'West/Iburengerazuba',\n",
       "       'Kedougou', 'Sedhiou', 'Kaffrine', 'Dakar', 'Kaolack', 'Kolda',\n",
       "       'Tambacounda', 'Thies', 'Ziguinchor', 'Diourbel', 'Fatick',\n",
       "       'Louga', 'Matam', 'Saint louis', 'Southern', 'Western Area',\n",
       "       'Awdal', 'Bakool', 'Bari', 'Bay', 'Banadir', 'Galgaduud', 'Gedo',\n",
       "       'Hiraan', 'Juba Hoose', 'Shabelle Hoose', 'Juba Dhexe',\n",
       "       'Shabelle Dhexe', 'Mudug', 'Nugaal', 'Sanaag', 'Sool', 'Togdheer',\n",
       "       'Woqooyi Galbeed', 'Gauteng', 'Blue Nile', 'Kassala', 'Khartoum',\n",
       "       'North Kordofan', 'North Darfur', 'Gedaref', 'South Kordofan',\n",
       "       'South Darfur', 'West Kordofan', 'West Darfur', 'White Nile',\n",
       "       'Red Sea', 'Kara', 'Maritime', 'Plateaux', 'Savanes', 'Abim',\n",
       "       'Amudat', 'Kween', 'Kyankwanzi', 'Busia', 'Gulu', 'Jinja',\n",
       "       'Kabale', 'Iganga', 'Kampala', 'Masindi', 'Nakapiripirit',\n",
       "       'Soroti', 'Kaabong', 'Kotido', 'Lira', 'Mbale', 'Mbarara',\n",
       "       'Copperbelt', 'Luapula', 'Lusaka', 'North-Western', 'Bulawayo',\n",
       "       'Harare', 'Manicaland', 'Mashonaland Central', 'Mashonaland East',\n",
       "       'Mashonaland West', 'Masvingo', 'Matabeleland North',\n",
       "       'Matabeleland South', 'Midlands'], dtype=object)"
      ]
     },
     "execution_count": 21,
     "metadata": {},
     "output_type": "execute_result"
    }
   ],
   "source": [
    "afp.state.unique()"
   ]
  },
  {
   "cell_type": "code",
   "execution_count": 22,
   "id": "1b1e8a59-89ce-441c-a356-9c6378124cee",
   "metadata": {
    "tags": []
   },
   "outputs": [
    {
     "data": {
      "text/plain": [
       "array(['Algeria', 'Angola', 'Benin', 'Burundi', 'Cameroon', 'Cape Verde',\n",
       "       'Central African Republic', 'Congo', 'Djibouti', 'Eritrea',\n",
       "       'Ethiopia', 'Gabon', 'Gambia', 'Ghana', 'Guinea', 'Guinea-Bissau',\n",
       "       'Kenya', 'Lesotho', 'Liberia', 'Madagascar', 'Malawi', 'Mali',\n",
       "       'Mauritania', 'Namibia', 'Niger', 'Nigeria', 'Rwanda', 'Senegal',\n",
       "       'Sierra Leone', 'Somalia', 'South Africa', 'Sudan', 'Togo',\n",
       "       'Uganda', 'Zambia', 'Zimbabwe'], dtype=object)"
      ]
     },
     "execution_count": 22,
     "metadata": {},
     "output_type": "execute_result"
    }
   ],
   "source": [
    "afp.country.unique()"
   ]
  },
  {
   "cell_type": "code",
   "execution_count": 23,
   "id": "3c8dd513-3442-4aa9-ae8f-9736863b961a",
   "metadata": {
    "tags": []
   },
   "outputs": [
    {
     "data": {
      "text/plain": [
       "array(['Algiers', 'Tindouf', 'Samara', ..., 'Rutendo 6', 'Matibi',\n",
       "       'Mbilashaba'], dtype=object)"
      ]
     },
     "execution_count": 23,
     "metadata": {},
     "output_type": "execute_result"
    }
   ],
   "source": [
    "afp.market.unique()"
   ]
  },
  {
   "cell_type": "code",
   "execution_count": 24,
   "id": "5e27e19a-11e0-4902-a7fa-366ac31eaf9b",
   "metadata": {
    "tags": []
   },
   "outputs": [
    {
     "data": {
      "text/plain": [
       "produce\n",
       "Millet - Retail                       43916\n",
       "Sorghum - Retail                      43861\n",
       "Maize - Retail                        42480\n",
       "Rice (imported) - Retail              42124\n",
       "Rice (local) - Retail                 29524\n",
       "                                      ...  \n",
       "Butter (cow milk) - Retail                2\n",
       "Beans (haricot, white) - Wholesale        2\n",
       "Beans (haricot, red) - Wholesale          1\n",
       "Kocho - Retail                            1\n",
       "Sorghum (biofortified) - Retail           1\n",
       "Name: count, Length: 400, dtype: int64"
      ]
     },
     "execution_count": 24,
     "metadata": {},
     "output_type": "execute_result"
    }
   ],
   "source": [
    "# value_count \n",
    "afp.produce.value_counts()"
   ]
  },
  {
   "cell_type": "code",
   "execution_count": 25,
   "id": "d4d8796d-e151-4b6b-bae1-1ff6b3116fff",
   "metadata": {
    "tags": []
   },
   "outputs": [
    {
     "data": {
      "text/plain": [
       "market_type\n",
       "Retail       760921\n",
       "Wholesale     68932\n",
       "Producer        248\n",
       "Name: count, dtype: int64"
      ]
     },
     "execution_count": 25,
     "metadata": {},
     "output_type": "execute_result"
    }
   ],
   "source": [
    "# value_count \n",
    "afp.market_type.value_counts()"
   ]
  },
  {
   "cell_type": "code",
   "execution_count": 26,
   "id": "d89efd3b-c7b9-4fd4-9d7f-649addcfd32b",
   "metadata": {
    "tags": []
   },
   "outputs": [
    {
     "data": {
      "text/html": [
       "<div>\n",
       "<style scoped>\n",
       "    .dataframe tbody tr th:only-of-type {\n",
       "        vertical-align: middle;\n",
       "    }\n",
       "\n",
       "    .dataframe tbody tr th {\n",
       "        vertical-align: top;\n",
       "    }\n",
       "\n",
       "    .dataframe thead th {\n",
       "        text-align: right;\n",
       "    }\n",
       "</style>\n",
       "<table border=\"1\" class=\"dataframe\">\n",
       "  <thead>\n",
       "    <tr style=\"text-align: right;\">\n",
       "      <th></th>\n",
       "      <th>id</th>\n",
       "      <th>country_id</th>\n",
       "      <th>country</th>\n",
       "      <th>state_id</th>\n",
       "      <th>state</th>\n",
       "      <th>market_id</th>\n",
       "      <th>market</th>\n",
       "      <th>produce_id</th>\n",
       "      <th>produce</th>\n",
       "      <th>currency_id</th>\n",
       "      <th>currency</th>\n",
       "      <th>pt_id</th>\n",
       "      <th>market_type</th>\n",
       "      <th>unit_id</th>\n",
       "      <th>quantity</th>\n",
       "      <th>month</th>\n",
       "      <th>year</th>\n",
       "      <th>price</th>\n",
       "    </tr>\n",
       "  </thead>\n",
       "  <tbody>\n",
       "    <tr>\n",
       "      <th>0</th>\n",
       "      <td>15427</td>\n",
       "      <td>4.0</td>\n",
       "      <td>Algeria</td>\n",
       "      <td>344</td>\n",
       "      <td>Alger</td>\n",
       "      <td>1794</td>\n",
       "      <td>Algiers</td>\n",
       "      <td>52</td>\n",
       "      <td>Rice - Retail</td>\n",
       "      <td>0.0</td>\n",
       "      <td>DZD</td>\n",
       "      <td>15</td>\n",
       "      <td>Retail</td>\n",
       "      <td>5</td>\n",
       "      <td>KG</td>\n",
       "      <td>4</td>\n",
       "      <td>2015</td>\n",
       "      <td>90.0000</td>\n",
       "    </tr>\n",
       "    <tr>\n",
       "      <th>1</th>\n",
       "      <td>15428</td>\n",
       "      <td>4.0</td>\n",
       "      <td>Algeria</td>\n",
       "      <td>344</td>\n",
       "      <td>Alger</td>\n",
       "      <td>1794</td>\n",
       "      <td>Algiers</td>\n",
       "      <td>52</td>\n",
       "      <td>Rice - Retail</td>\n",
       "      <td>0.0</td>\n",
       "      <td>DZD</td>\n",
       "      <td>15</td>\n",
       "      <td>Retail</td>\n",
       "      <td>5</td>\n",
       "      <td>KG</td>\n",
       "      <td>5</td>\n",
       "      <td>2015</td>\n",
       "      <td>96.0000</td>\n",
       "    </tr>\n",
       "    <tr>\n",
       "      <th>2</th>\n",
       "      <td>15429</td>\n",
       "      <td>4.0</td>\n",
       "      <td>Algeria</td>\n",
       "      <td>344</td>\n",
       "      <td>Alger</td>\n",
       "      <td>1794</td>\n",
       "      <td>Algiers</td>\n",
       "      <td>52</td>\n",
       "      <td>Rice - Retail</td>\n",
       "      <td>0.0</td>\n",
       "      <td>DZD</td>\n",
       "      <td>15</td>\n",
       "      <td>Retail</td>\n",
       "      <td>5</td>\n",
       "      <td>KG</td>\n",
       "      <td>6</td>\n",
       "      <td>2015</td>\n",
       "      <td>96.0000</td>\n",
       "    </tr>\n",
       "    <tr>\n",
       "      <th>3</th>\n",
       "      <td>15430</td>\n",
       "      <td>4.0</td>\n",
       "      <td>Algeria</td>\n",
       "      <td>344</td>\n",
       "      <td>Alger</td>\n",
       "      <td>1794</td>\n",
       "      <td>Algiers</td>\n",
       "      <td>52</td>\n",
       "      <td>Rice - Retail</td>\n",
       "      <td>0.0</td>\n",
       "      <td>DZD</td>\n",
       "      <td>15</td>\n",
       "      <td>Retail</td>\n",
       "      <td>5</td>\n",
       "      <td>KG</td>\n",
       "      <td>7</td>\n",
       "      <td>2015</td>\n",
       "      <td>83.0000</td>\n",
       "    </tr>\n",
       "    <tr>\n",
       "      <th>4</th>\n",
       "      <td>15431</td>\n",
       "      <td>4.0</td>\n",
       "      <td>Algeria</td>\n",
       "      <td>344</td>\n",
       "      <td>Alger</td>\n",
       "      <td>1794</td>\n",
       "      <td>Algiers</td>\n",
       "      <td>52</td>\n",
       "      <td>Rice - Retail</td>\n",
       "      <td>0.0</td>\n",
       "      <td>DZD</td>\n",
       "      <td>15</td>\n",
       "      <td>Retail</td>\n",
       "      <td>5</td>\n",
       "      <td>KG</td>\n",
       "      <td>8</td>\n",
       "      <td>2015</td>\n",
       "      <td>80.0000</td>\n",
       "    </tr>\n",
       "    <tr>\n",
       "      <th>...</th>\n",
       "      <td>...</td>\n",
       "      <td>...</td>\n",
       "      <td>...</td>\n",
       "      <td>...</td>\n",
       "      <td>...</td>\n",
       "      <td>...</td>\n",
       "      <td>...</td>\n",
       "      <td>...</td>\n",
       "      <td>...</td>\n",
       "      <td>...</td>\n",
       "      <td>...</td>\n",
       "      <td>...</td>\n",
       "      <td>...</td>\n",
       "      <td>...</td>\n",
       "      <td>...</td>\n",
       "      <td>...</td>\n",
       "      <td>...</td>\n",
       "      <td>...</td>\n",
       "    </tr>\n",
       "    <tr>\n",
       "      <th>956774</th>\n",
       "      <td>2050633</td>\n",
       "      <td>271.0</td>\n",
       "      <td>Zimbabwe</td>\n",
       "      <td>3444</td>\n",
       "      <td>Midlands</td>\n",
       "      <td>5594</td>\n",
       "      <td>Mbilashaba</td>\n",
       "      <td>432</td>\n",
       "      <td>Beans (sugar) - Retail</td>\n",
       "      <td>0.0</td>\n",
       "      <td>ZWL</td>\n",
       "      <td>15</td>\n",
       "      <td>Retail</td>\n",
       "      <td>5</td>\n",
       "      <td>KG</td>\n",
       "      <td>6</td>\n",
       "      <td>2021</td>\n",
       "      <td>233.3333</td>\n",
       "    </tr>\n",
       "    <tr>\n",
       "      <th>956775</th>\n",
       "      <td>2050634</td>\n",
       "      <td>271.0</td>\n",
       "      <td>Zimbabwe</td>\n",
       "      <td>3444</td>\n",
       "      <td>Midlands</td>\n",
       "      <td>5594</td>\n",
       "      <td>Mbilashaba</td>\n",
       "      <td>539</td>\n",
       "      <td>Toothpaste - Retail</td>\n",
       "      <td>0.0</td>\n",
       "      <td>ZWL</td>\n",
       "      <td>15</td>\n",
       "      <td>Retail</td>\n",
       "      <td>116</td>\n",
       "      <td>100 ML</td>\n",
       "      <td>6</td>\n",
       "      <td>2021</td>\n",
       "      <td>112.5000</td>\n",
       "    </tr>\n",
       "    <tr>\n",
       "      <th>956776</th>\n",
       "      <td>2050635</td>\n",
       "      <td>271.0</td>\n",
       "      <td>Zimbabwe</td>\n",
       "      <td>3444</td>\n",
       "      <td>Midlands</td>\n",
       "      <td>5594</td>\n",
       "      <td>Mbilashaba</td>\n",
       "      <td>540</td>\n",
       "      <td>Laundry soap - Retail</td>\n",
       "      <td>0.0</td>\n",
       "      <td>ZWL</td>\n",
       "      <td>15</td>\n",
       "      <td>Retail</td>\n",
       "      <td>5</td>\n",
       "      <td>KG</td>\n",
       "      <td>6</td>\n",
       "      <td>2021</td>\n",
       "      <td>114.0000</td>\n",
       "    </tr>\n",
       "    <tr>\n",
       "      <th>956777</th>\n",
       "      <td>2050636</td>\n",
       "      <td>271.0</td>\n",
       "      <td>Zimbabwe</td>\n",
       "      <td>3444</td>\n",
       "      <td>Midlands</td>\n",
       "      <td>5594</td>\n",
       "      <td>Mbilashaba</td>\n",
       "      <td>541</td>\n",
       "      <td>Handwash soap - Retail</td>\n",
       "      <td>0.0</td>\n",
       "      <td>ZWL</td>\n",
       "      <td>15</td>\n",
       "      <td>Retail</td>\n",
       "      <td>66</td>\n",
       "      <td>250 G</td>\n",
       "      <td>6</td>\n",
       "      <td>2021</td>\n",
       "      <td>59.5000</td>\n",
       "    </tr>\n",
       "    <tr>\n",
       "      <th>956778</th>\n",
       "      <td>2050637</td>\n",
       "      <td>271.0</td>\n",
       "      <td>Zimbabwe</td>\n",
       "      <td>3444</td>\n",
       "      <td>Midlands</td>\n",
       "      <td>5594</td>\n",
       "      <td>Mbilashaba</td>\n",
       "      <td>887</td>\n",
       "      <td>Fish (kapenta) - Retail</td>\n",
       "      <td>0.0</td>\n",
       "      <td>ZWL</td>\n",
       "      <td>15</td>\n",
       "      <td>Retail</td>\n",
       "      <td>5</td>\n",
       "      <td>KG</td>\n",
       "      <td>6</td>\n",
       "      <td>2021</td>\n",
       "      <td>1200.0000</td>\n",
       "    </tr>\n",
       "  </tbody>\n",
       "</table>\n",
       "<p>830101 rows × 18 columns</p>\n",
       "</div>"
      ],
      "text/plain": [
       "             id  country_id   country  state_id     state  market_id  \\\n",
       "0         15427         4.0   Algeria       344     Alger       1794   \n",
       "1         15428         4.0   Algeria       344     Alger       1794   \n",
       "2         15429         4.0   Algeria       344     Alger       1794   \n",
       "3         15430         4.0   Algeria       344     Alger       1794   \n",
       "4         15431         4.0   Algeria       344     Alger       1794   \n",
       "...         ...         ...       ...       ...       ...        ...   \n",
       "956774  2050633       271.0  Zimbabwe      3444  Midlands       5594   \n",
       "956775  2050634       271.0  Zimbabwe      3444  Midlands       5594   \n",
       "956776  2050635       271.0  Zimbabwe      3444  Midlands       5594   \n",
       "956777  2050636       271.0  Zimbabwe      3444  Midlands       5594   \n",
       "956778  2050637       271.0  Zimbabwe      3444  Midlands       5594   \n",
       "\n",
       "            market  produce_id                  produce  currency_id currency  \\\n",
       "0          Algiers          52            Rice - Retail          0.0      DZD   \n",
       "1          Algiers          52            Rice - Retail          0.0      DZD   \n",
       "2          Algiers          52            Rice - Retail          0.0      DZD   \n",
       "3          Algiers          52            Rice - Retail          0.0      DZD   \n",
       "4          Algiers          52            Rice - Retail          0.0      DZD   \n",
       "...            ...         ...                      ...          ...      ...   \n",
       "956774  Mbilashaba         432   Beans (sugar) - Retail          0.0      ZWL   \n",
       "956775  Mbilashaba         539      Toothpaste - Retail          0.0      ZWL   \n",
       "956776  Mbilashaba         540    Laundry soap - Retail          0.0      ZWL   \n",
       "956777  Mbilashaba         541   Handwash soap - Retail          0.0      ZWL   \n",
       "956778  Mbilashaba         887  Fish (kapenta) - Retail          0.0      ZWL   \n",
       "\n",
       "        pt_id market_type  unit_id quantity  month  year      price  \n",
       "0          15      Retail        5       KG      4  2015    90.0000  \n",
       "1          15      Retail        5       KG      5  2015    96.0000  \n",
       "2          15      Retail        5       KG      6  2015    96.0000  \n",
       "3          15      Retail        5       KG      7  2015    83.0000  \n",
       "4          15      Retail        5       KG      8  2015    80.0000  \n",
       "...       ...         ...      ...      ...    ...   ...        ...  \n",
       "956774     15      Retail        5       KG      6  2021   233.3333  \n",
       "956775     15      Retail      116   100 ML      6  2021   112.5000  \n",
       "956776     15      Retail        5       KG      6  2021   114.0000  \n",
       "956777     15      Retail       66    250 G      6  2021    59.5000  \n",
       "956778     15      Retail        5       KG      6  2021  1200.0000  \n",
       "\n",
       "[830101 rows x 18 columns]"
      ]
     },
     "execution_count": 26,
     "metadata": {},
     "output_type": "execute_result"
    }
   ],
   "source": [
    "afp"
   ]
  },
  {
   "cell_type": "code",
   "execution_count": 27,
   "id": "15195b37-10bd-4305-bd6a-d2571fa813c2",
   "metadata": {
    "tags": []
   },
   "outputs": [
    {
     "name": "stdout",
     "output_type": "stream",
     "text": [
      "Data Types in afp:\n",
      " id               int64\n",
      "country_id     float64\n",
      "country         object\n",
      "state_id         int64\n",
      "state           object\n",
      "market_id        int64\n",
      "market          object\n",
      "produce_id       int64\n",
      "produce         object\n",
      "currency_id    float64\n",
      "currency        object\n",
      "pt_id            int64\n",
      "market_type     object\n",
      "unit_id          int64\n",
      "quantity        object\n",
      "month            int64\n",
      "year             int64\n",
      "price          float64\n",
      "dtype: object\n"
     ]
    }
   ],
   "source": [
    "# Check the data types of columns in the DataFrame\n",
    "print(\"Data Types in afp:\\n\", afp.dtypes)\n",
    "\n"
   ]
  },
  {
   "cell_type": "code",
   "execution_count": 28,
   "id": "8dfebce7-ce00-42f1-8f59-0b8ff46e9188",
   "metadata": {
    "tags": []
   },
   "outputs": [
    {
     "data": {
      "text/plain": [
       "Index(['id', 'country_id', 'country', 'state_id', 'state', 'market_id',\n",
       "       'market', 'produce_id', 'produce', 'currency_id', 'currency', 'pt_id',\n",
       "       'market_type', 'unit_id', 'quantity', 'month', 'year', 'price'],\n",
       "      dtype='object')"
      ]
     },
     "execution_count": 28,
     "metadata": {},
     "output_type": "execute_result"
    }
   ],
   "source": [
    "afp.columns"
   ]
  },
  {
   "cell_type": "markdown",
   "id": "903c5b6b-5daa-4712-bb22-0218ba9aac63",
   "metadata": {
    "tags": []
   },
   "source": [
    "## Research questions from the dataset"
   ]
  },
  {
   "cell_type": "markdown",
   "id": "646dcc6f-e2c8-482b-9a36-09f89623b8fe",
   "metadata": {},
   "source": [
    "### 1.Countries with the highest and lowest average food prices?"
   ]
  },
  {
   "cell_type": "code",
   "execution_count": 29,
   "id": "e3b6f3dd-5426-42f7-84ce-cca8d4cef8fe",
   "metadata": {},
   "outputs": [
    {
     "name": "stdout",
     "output_type": "stream",
     "text": [
      "Highest average price: Somalia\n",
      "Lowest average price: South Africa\n"
     ]
    }
   ],
   "source": [
    "# Calculate the average prices for each region\n",
    "\n",
    "AveragePricesByState = afp.groupby('country')['price'].mean().sort_values()\n",
    "\n",
    "# Regions with highest and lowest average prices\n",
    "\n",
    "HighestAveragePrice = AveragePricesByState.idxmax()\n",
    "LowestAveragePrice = AveragePricesByState.idxmin()\n",
    "\n",
    "# Results\n",
    "print(f\"Highest average price: {HighestAveragePrice}\")\n",
    "print(f\"Lowest average price: {LowestAveragePrice}\")"
   ]
  },
  {
   "cell_type": "markdown",
   "id": "7b444d59-f300-489a-a350-504d5e5e7945",
   "metadata": {
    "tags": []
   },
   "source": [
    "### 2. Top Five most sold products?\n"
   ]
  },
  {
   "cell_type": "code",
   "execution_count": 30,
   "id": "6e5ee2f1-a4e3-40e8-8663-69ea1a2e2f06",
   "metadata": {
    "tags": []
   },
   "outputs": [],
   "source": [
    "# Count Occurences of each product and pick the top 5 most sold product\n",
    "\n",
    "TopFiveProducts = afp['produce'].value_counts().head(5)"
   ]
  },
  {
   "cell_type": "code",
   "execution_count": 31,
   "id": "477aca55-5180-4e92-9954-533d402775b3",
   "metadata": {
    "tags": []
   },
   "outputs": [
    {
     "data": {
      "image/png": "[encoded data removed]",
      "text/plain": [
       "<Figure size 1000x600 with 1 Axes>"
      ]
     },
     "metadata": {},
     "output_type": "display_data"
    }
   ],
   "source": [
    "plt.figure(figsize = (10, 6))\n",
    "TopFiveProducts.plot(kind = 'bar', color = 'b')\n",
    "plt.title( 'TOP FIVE MOST SOLD PRODUCE')\n",
    "plt.xlabel('Produce')\n",
    "plt.ylabel('Total Count')\n",
    "plt.xticks(rotation = 45)\n",
    "plt.show()"
   ]
  },
  {
   "cell_type": "markdown",
   "id": "feb2834d-6ee0-4c32-8455-d9cb1863b6af",
   "metadata": {},
   "source": [
    "### 3. Top 5 markets with top prices"
   ]
  },
  {
   "cell_type": "code",
   "execution_count": 32,
   "id": "69a39ac9-80cf-49d2-a32a-ffbce7614e95",
   "metadata": {
    "tags": []
   },
   "outputs": [
    {
     "data": {
      "image/png": "[encoded data removed]",
      "text/plain": [
       "<Figure size 1000x600 with 1 Axes>"
      ]
     },
     "metadata": {},
     "output_type": "display_data"
    }
   ],
   "source": [
    "# Calculate mean prices\n",
    "MarketAvgPrices = afp.groupby('market')['price'].mean()\n",
    "\n",
    "# Calculate market highest average prices\n",
    "TopFiveMarket = MarketAvgPrices.nlargest(5)\n",
    "\n",
    "# Sorting markets by price in asc order to get bottom 5 markets with lowest price\n",
    "BottomFiveMarket = afp.nsmallest(5, 'price')\n",
    "\n",
    "# Create bar chart for top 5 markets with highest prices\n",
    "\n",
    "plt.figure(figsize = (10, 6))\n",
    "TopFiveMarket.plot(kind = 'line', color = 'b')\n",
    "plt.title('TOP FIVE MARKETS WITH TOP PRICES')\n",
    "plt.xlabel('Markets')\n",
    "plt.ylabel('Average Prices')\n",
    "plt.xticks(rotation = 45)\n",
    "plt.show()"
   ]
  },
  {
   "cell_type": "markdown",
   "id": "3214650a-90bc-4522-9282-b3be507e06d3",
   "metadata": {},
   "source": [
    "### 4. Top five Countries that produced the most product"
   ]
  },
  {
   "cell_type": "code",
   "execution_count": 35,
   "id": "536935ca-3197-4510-8d30-9c561f5fe336",
   "metadata": {
    "tags": []
   },
   "outputs": [
    {
     "data": {
      "image/png": "[encoded data removed]",
      "text/plain": [
       "<Figure size 1000x600 with 1 Axes>"
      ]
     },
     "metadata": {},
     "output_type": "display_data"
    }
   ],
   "source": [
    "# Group by country and calculate the sum of products\n",
    "ProduceByCountries = afp.groupby('country')['produce'].count().sort_values(ascending=False)\n",
    "TopFive = ProduceByCountries.nlargest(5)\n",
    "\n",
    "# Plot a bar chart showing the count of produce by countries\n",
    "\n",
    "plt.figure(figsize=(10, 6))\n",
    "TopFive.plot(kind='bar', color = 'b')\n",
    "plt.title('TOP FIVE COUNTRIES WITH THE MOST PRODUCED PRODUCT')\n",
    "plt.xlabel('Countries')\n",
    "plt.ylabel('Produce')\n",
    "plt.xticks(rotation = 45)\n",
    "plt.tight_layout()\n",
    "plt.show()"
   ]
  },
  {
   "cell_type": "markdown",
   "id": "3c25c2ea-b803-4a95-9e7f-5f2be6ecb96a",
   "metadata": {},
   "source": [
    "### 5. Year with the highest produce"
   ]
  },
  {
   "cell_type": "code",
   "execution_count": 37,
   "id": "29fdd25a-5d5b-48c0-9e92-8dddfdd1e8af",
   "metadata": {
    "tags": []
   },
   "outputs": [
    {
     "data": {
      "image/png": "[encoded data removed]",
      "text/plain": [
       "<Figure size 1000x600 with 1 Axes>"
      ]
     },
     "metadata": {},
     "output_type": "display_data"
    }
   ],
   "source": [
    "# Group by Year and calculate sum of produce\n",
    "YearWithTheMostProduce = afp.groupby('year')['produce'].count().sort_values(ascending=False)\n",
    "TopTen = YearWithTheMostProduce.nlargest(10)\n",
    "# Plot a bar chart showing the year with most produce\n",
    "\n",
    "plt.figure(figsize=(10, 6))\n",
    "TopTen.plot(kind='bar', color = 'b')\n",
    "plt.title('YEAR WITH THE MOST PRODUCE')\n",
    "plt.xlabel('Year')\n",
    "plt.ylabel('Produce')\n",
    "plt.xticks(rotation = 45)\n",
    "plt.tight_layout()\n",
    "plt.show()"
   ]
  },
  {
   "cell_type": "code",
   "execution_count": null,
   "id": "0bed4b3a-087a-4691-ba84-301ac27708dd",
   "metadata": {},
   "outputs": [],
   "source": []
  }
 ],
 "metadata": {
  "kernelspec": {
   "display_name": "Python 3 (ipykernel)",
   "language": "python",
   "name": "python3"
  },
  "language_info": {
   "codemirror_mode": {
    "name": "ipython",
    "version": 3
   },
   "file_extension": ".py",
   "mimetype": "text/x-python",
   "name": "python",
   "nbconvert_exporter": "python",
   "pygments_lexer": "ipython3",
   "version": "3.11.5"
  }
 },
 "nbformat": 4,
 "nbformat_minor": 5
}
